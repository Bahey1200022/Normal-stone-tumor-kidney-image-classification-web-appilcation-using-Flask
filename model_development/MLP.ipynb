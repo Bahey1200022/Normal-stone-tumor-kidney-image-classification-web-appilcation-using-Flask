{
 "cells": [
  {
   "cell_type": "code",
   "execution_count": 1,
   "id": "dea7530a",
   "metadata": {},
   "outputs": [],
   "source": [
    "from keras.layers import Input, Lambda, Dense, Flatten\n",
    "from keras.models import Model\n",
    "#from keras.applications.resnet50 import ResNet50\n",
    "from keras.preprocessing import image\n",
    "from keras.preprocessing.image import ImageDataGenerator\n",
    "from keras.models import Sequential\n",
    "import numpy as np\n",
    "\"\"\n",
    "from glob import glob\n",
    "import matplotlib.pyplot as plt\n",
    "from sklearn import svm\n",
    "from pathlib import Path\n",
    "import pandas as pd # data processing, CSV file I/O (e.g. pd.read_csv)\n"
   ]
  },
  {
   "cell_type": "code",
   "execution_count": 3,
   "id": "ebe40888",
   "metadata": {},
   "outputs": [
    {
     "data": {
      "text/html": [
       "<div>\n",
       "<style scoped>\n",
       "    .dataframe tbody tr th:only-of-type {\n",
       "        vertical-align: middle;\n",
       "    }\n",
       "\n",
       "    .dataframe tbody tr th {\n",
       "        vertical-align: top;\n",
       "    }\n",
       "\n",
       "    .dataframe thead th {\n",
       "        text-align: right;\n",
       "    }\n",
       "</style>\n",
       "<table border=\"1\" class=\"dataframe\">\n",
       "  <thead>\n",
       "    <tr style=\"text-align: right;\">\n",
       "      <th></th>\n",
       "      <th>image</th>\n",
       "      <th>label</th>\n",
       "    </tr>\n",
       "  </thead>\n",
       "  <tbody>\n",
       "    <tr>\n",
       "      <th>0</th>\n",
       "      <td>Kidney_stone_detection-main\\Kidney_stone_detec...</td>\n",
       "      <td>1</td>\n",
       "    </tr>\n",
       "    <tr>\n",
       "      <th>1</th>\n",
       "      <td>Kidney_stone_detection-main\\Kidney_stone_detec...</td>\n",
       "      <td>1</td>\n",
       "    </tr>\n",
       "    <tr>\n",
       "      <th>2</th>\n",
       "      <td>Kidney_stone_detection-main\\Kidney_stone_detec...</td>\n",
       "      <td>1</td>\n",
       "    </tr>\n",
       "    <tr>\n",
       "      <th>3</th>\n",
       "      <td>Kidney_stone_detection-main\\Kidney_stone_detec...</td>\n",
       "      <td>2</td>\n",
       "    </tr>\n",
       "    <tr>\n",
       "      <th>4</th>\n",
       "      <td>Kidney_stone_detection-main\\Kidney_stone_detec...</td>\n",
       "      <td>1</td>\n",
       "    </tr>\n",
       "  </tbody>\n",
       "</table>\n",
       "</div>"
      ],
      "text/plain": [
       "                                               image  label\n",
       "0  Kidney_stone_detection-main\\Kidney_stone_detec...      1\n",
       "1  Kidney_stone_detection-main\\Kidney_stone_detec...      1\n",
       "2  Kidney_stone_detection-main\\Kidney_stone_detec...      1\n",
       "3  Kidney_stone_detection-main\\Kidney_stone_detec...      2\n",
       "4  Kidney_stone_detection-main\\Kidney_stone_detec...      1"
      ]
     },
     "execution_count": 3,
     "metadata": {},
     "output_type": "execute_result"
    }
   ],
   "source": [
    "train_dir = Path('Kidney_stone_detection-main\\Kidney_stone_detection-main\\Dataset\\Train')\n",
    "Stone_cases_dir = train_dir / 'Kidney_stone'\n",
    "normal_cases_dir = train_dir / 'Normal'\n",
    "# Cyst_cases_dir = train_dir / 'Cyst'\n",
    "Tumor_cases_dir = train_dir / 'Tumor'\n",
    "\n",
    "# Get the list of all the images\n",
    "normal_cases = normal_cases_dir.glob('*.png')\n",
    "Stone_cases = Stone_cases_dir.glob('*.png')\n",
    "Tumor_cases = Tumor_cases_dir.glob('*.jpg')\n",
    "\n",
    "# An empty list. We will insert the data into this list in (img_path, label) format\n",
    "train_data = []\n",
    "\n",
    "\n",
    "# Go through all the Cyst_cases . The label for these cases will be 1\n",
    "# for img in Cyst_cases:\n",
    "#     train_data.append((img, 0))\n",
    "    # Go through all the normal cases. The label for these cases will be 0\n",
    "for img in normal_cases:\n",
    "    train_data.append((img,0))\n",
    "\n",
    "# # Go through all the normal cases. The label for these cases will be 0\n",
    "for img in Stone_cases:\n",
    "    train_data.append((img,1))\n",
    "\n",
    "# # Go through all the Tumor_cases . The label for these cases will be 1\n",
    "for img in Tumor_cases:\n",
    "    train_data.append((img, 2))\n",
    "\n",
    "# Get a pandas dataframe from the data we have in our list \n",
    "train_data = pd.DataFrame(train_data, columns=['image', 'label'],index=None)\n",
    "\n",
    "# Shuffle the data \n",
    "train_data = train_data.sample(frac=1.).reset_index(drop=True)\n",
    "\n",
    "# How the dataframe looks like?\n",
    "train_data.head()"
   ]
  },
  {
   "cell_type": "code",
   "execution_count": 4,
   "id": "e380694e",
   "metadata": {},
   "outputs": [
    {
     "name": "stdout",
     "output_type": "stream",
     "text": [
      "label\n",
      "0    828\n",
      "1    625\n",
      "2    603\n",
      "Name: count, dtype: int64\n"
     ]
    }
   ],
   "source": [
    "cases_count = train_data['label'].value_counts()\n",
    "print(cases_count)"
   ]
  },
  {
   "cell_type": "code",
   "execution_count": 5,
   "id": "7a125f88",
   "metadata": {},
   "outputs": [
    {
     "name": "stdout",
     "output_type": "stream",
     "text": [
      "Total number of validation examples:  (2056, 128, 128, 3)\n",
      "Total number of labels: (2056,)\n"
     ]
    }
   ],
   "source": [
    "Stone_cases_dir = train_dir / 'Kidney_stone'\n",
    "normal_cases_dir = train_dir / 'Normal'\n",
    "# Cyst_cases_dir = train_dir / 'Cyst'\n",
    "Tumor_cases_dir = train_dir / 'Tumor'\n",
    "\n",
    "# Get the list of all the images\n",
    "normal_cases = normal_cases_dir.glob('*.png')\n",
    "Stone_cases = Stone_cases_dir.glob('*.png')\n",
    "Tumor_cases = Tumor_cases_dir.glob('*.jpg')\n",
    "\n",
    "import cv2\n",
    "\n",
    "train_data = []\n",
    "train_labels = []\n",
    "#from keras.utils.np_utils import to_categorical\n",
    "\n",
    "# for img in Cyst_cases:\n",
    "#     img = cv2.imread(str(img))\n",
    "#     img = cv2.resize(img, (28,28))\n",
    "#     if img.shape[2] ==1:\n",
    "#         img = np.dstack([img, img, img])\n",
    "#     img = cv2.cvtColor(img, cv2.COLOR_BGR2RGB)\n",
    "#     img=np.array(img)\n",
    "#     img = img/255\n",
    "#     label = 'Cyst'\n",
    "#     train_data.append(img)\n",
    "#     train_labels.append(label)\n",
    "\n",
    "for img in normal_cases:\n",
    "    img = cv2.imread(str(img))\n",
    "    img = cv2.resize(img, (128,128))\n",
    "    if img.shape[2] ==1:\n",
    "        img = np.dstack([img, img, img])\n",
    "    img = cv2.cvtColor(img, cv2.COLOR_BGR2RGB)\n",
    "    img=np.array(img)\n",
    "    img = img/255\n",
    "    label ='Normal'\n",
    "    train_data.append(img)\n",
    "    train_labels.append(label)\n",
    "                      \n",
    "for img in Stone_cases:\n",
    "    img = cv2.imread(str(img))\n",
    "    img = cv2.resize(img, (128,128))\n",
    "    if img.shape[2] ==1:\n",
    "        img = np.dstack([img, img, img])\n",
    "    img = cv2.cvtColor(img, cv2.COLOR_BGR2RGB)\n",
    "    img=np.array(img)\n",
    "    img = img/255\n",
    "    label = 'Stone'\n",
    "    train_data.append(img)\n",
    "    train_labels.append(label)\n",
    "    \n",
    "for img in Tumor_cases:\n",
    "    img = cv2.imread(str(img))\n",
    "    img = cv2.resize(img, (128,128))\n",
    "    if img.shape[2] ==1:\n",
    "        img = np.dstack([img, img, img])\n",
    "    img = cv2.cvtColor(img, cv2.COLOR_BGR2RGB)\n",
    "    img=np.array(img)\n",
    "    img = img/255\n",
    "    label = 'Tumor'\n",
    "    train_data.append(img)\n",
    "    train_labels.append(label)\n",
    "# Convert the list into numpy arrays\n",
    "\n",
    "train_data1 = np.array(train_data)\n",
    "train_labels1 = np.array(train_labels)\n",
    "\n",
    "print(\"Total number of validation examples: \", train_data1.shape)\n",
    "print(\"Total number of labels:\", train_labels1.shape)"
   ]
  },
  {
   "cell_type": "code",
   "execution_count": 6,
   "id": "4c5717bf",
   "metadata": {},
   "outputs": [],
   "source": [
    "train_labels1 = pd.DataFrame(train_labels1, columns=[ 'label'],index=None)\n"
   ]
  },
  {
   "cell_type": "code",
   "execution_count": 7,
   "id": "3f86902f",
   "metadata": {},
   "outputs": [],
   "source": [
    "from sklearn.model_selection import train_test_split\n",
    "train_data1 = train_data1.reshape(train_data1.shape[0], -1)\n",
    "\n",
    "X_train, X_test, y_train, y_test = train_test_split(train_data1, train_labels1, test_size=0.20, random_state=30)"
   ]
  },
  {
   "cell_type": "code",
   "execution_count": 14,
   "id": "607137a2",
   "metadata": {},
   "outputs": [
    {
     "name": "stderr",
     "output_type": "stream",
     "text": [
      "C:\\Python\\Python311\\Lib\\site-packages\\sklearn\\neural_network\\_multilayer_perceptron.py:1098: DataConversionWarning: A column-vector y was passed when a 1d array was expected. Please change the shape of y to (n_samples, ), for example using ravel().\n",
      "  y = column_or_1d(y, warn=True)\n"
     ]
    }
   ],
   "source": [
    "from sklearn.neural_network import MLPClassifier\n",
    "\n",
    "# Create an MLP classifier with two hidden layers, each having 50 neurons\n",
    "mlp = MLPClassifier(hidden_layer_sizes=(50, 50,50))\n",
    "\n",
    "# Train the MLP on your training data\n",
    "mlp.fit(X_train, y_train)\n",
    "\n",
    "# Make predictions on new data\n",
    "y_pred = mlp.predict(X_test)\n"
   ]
  },
  {
   "cell_type": "code",
   "execution_count": 15,
   "id": "04957588",
   "metadata": {},
   "outputs": [
    {
     "name": "stdout",
     "output_type": "stream",
     "text": [
      "Accuracy: 0.9199029126213593\n"
     ]
    },
    {
     "data": {
      "image/png": "[encoded data removed]",
      "text/plain": [
       "<Figure size 640x480 with 2 Axes>"
      ]
     },
     "metadata": {},
     "output_type": "display_data"
    }
   ],
   "source": [
    "from sklearn.metrics import accuracy_score\n",
    "import numpy as np\n",
    "import matplotlib.pyplot as plt\n",
    "import seaborn as sns\n",
    "from sklearn.metrics import confusion_matrix\n",
    "\n",
    "# Calculate the accuracy of the MLP classifier\n",
    "accuracy = accuracy_score(y_test, y_pred)\n",
    "\n",
    "print(\"Accuracy:\", accuracy)\n",
    "# y_pred\n",
    "cm = confusion_matrix(y_test, y_pred)\n",
    "\n",
    "# Create a heatmap using Seaborn\n",
    "sns.heatmap(cm, annot=True, cmap=\"Blues\", fmt=\"d\")\n",
    "\n",
    "# Set labels and title\n",
    "plt.xlabel('Predicted Labels')\n",
    "plt.ylabel('True Labels')\n",
    "plt.title('Confusion Matrix')\n",
    "\n",
    "# Show the plot\n",
    "plt.show()\n",
    "\n",
    "# Plot the ROC curve\n"
   ]
  },
  {
   "cell_type": "code",
   "execution_count": 16,
   "id": "da65f09c",
   "metadata": {},
   "outputs": [
    {
     "name": "stdout",
     "output_type": "stream",
     "text": [
      "['Tumor']\n"
     ]
    }
   ],
   "source": [
    "import cv2\n",
    "import numpy as np\n",
    "\n",
    "pic = []\n",
    "\n",
    "img = cv2.imread(\"Kidney_stone_detection-main\\\\Kidney_stone_detection-main\\\\Dataset\\\\Train\\\\Tumor\\\\Tumor- (208).jpg\")\n",
    "img = cv2.resize(img, (128, 128))\n",
    "if img.shape[2] == 1:\n",
    "    img = np.dstack([img, img, img])\n",
    "img = cv2.cvtColor(img, cv2.COLOR_BGR2RGB)\n",
    "img = np.array(img)\n",
    "img = img / 255\n",
    "\n",
    "pic.append(img)\n",
    "pic_np = np.array(pic)  # Convert the list pic to a NumPy array\n",
    "pic1_2d = pic_np.reshape(pic_np.shape[0], -1)\n",
    "\n",
    "a = mlp.predict(pic1_2d)\n",
    "print(a)\n"
   ]
  },
  {
   "cell_type": "code",
   "execution_count": 11,
   "id": "56c9b134",
   "metadata": {},
   "outputs": [
    {
     "data": {
      "text/plain": [
       "['mlp_model.pkl']"
      ]
     },
     "execution_count": 11,
     "metadata": {},
     "output_type": "execute_result"
    }
   ],
   "source": [
    "import joblib\n",
    "\n",
    "# Save the trained model to a file\n",
    "joblib.dump(mlp, 'mlp_model.pkl')\n"
   ]
  },
  {
   "cell_type": "code",
   "execution_count": 13,
   "id": "51ed43aa",
   "metadata": {},
   "outputs": [
    {
     "data": {
      "text/plain": [
       "array(['Tumor'], dtype='<U6')"
      ]
     },
     "execution_count": 13,
     "metadata": {},
     "output_type": "execute_result"
    }
   ],
   "source": [
    "import joblib\n",
    "\n",
    "# Load the saved model from the file\n",
    "mlp = joblib.load('mlp_model.pkl')\n",
    "pic=[]\n",
    "import cv2\n",
    "\n",
    "img = cv2.imread(str(\"Kidney_stone_detection-main\\\\Kidney_stone_detection-main\\\\Dataset\\\\Train\\\\Tumor\\\\Tumor- (208).jpg\"))\n",
    "img = cv2.resize(img, (128,128))\n",
    "if img.shape[2] ==1:\n",
    "    img = np.dstack([img, img, img])\n",
    "img = cv2.cvtColor(img, cv2.COLOR_BGR2RGB)\n",
    "img=np.array(img)\n",
    "img = img/255\n",
    "#label = to_categorical(0, num_classes=2)\n",
    "\n",
    "pic.append(img)\n",
    "pic = np.array(pic)\n",
    "\n",
    "pic= pic.reshape(pic.shape[0], -1)\n",
    "a=mlp.predict(pic)\n",
    "a\n",
    "\n",
    "# Use the loaded model for predictions\n"
   ]
  },
  {
   "cell_type": "code",
   "execution_count": null,
   "id": "6812a3ee",
   "metadata": {},
   "outputs": [],
   "source": []
  }
 ],
 "metadata": {
  "kernelspec": {
   "display_name": "Python 3 (ipykernel)",
   "language": "python",
   "name": "python3"
  },
  "language_info": {
   "codemirror_mode": {
    "name": "ipython",
    "version": 3
   },
   "file_extension": ".py",
   "mimetype": "text/x-python",
   "name": "python",
   "nbconvert_exporter": "python",
   "pygments_lexer": "ipython3",
   "version": "3.11.4"
  }
 },
 "nbformat": 4,
 "nbformat_minor": 5
}
